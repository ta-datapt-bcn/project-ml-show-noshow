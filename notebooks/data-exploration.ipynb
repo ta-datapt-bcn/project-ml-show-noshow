{
 "cells": [
  {
   "cell_type": "code",
   "execution_count": 158,
   "metadata": {},
   "outputs": [],
   "source": [
    "import pandas as pd\n",
    "import datetime\n",
    "import statsmodels.api as sm\n",
    "from statsmodels.stats.outliers_influence import variance_inflation_factor"
   ]
  },
  {
   "cell_type": "code",
   "execution_count": 159,
   "metadata": {},
   "outputs": [],
   "source": [
    "df = pd.read_csv('../data/show_no_show.csv', index_col='Unnamed: 0')"
   ]
  },
  {
   "cell_type": "code",
   "execution_count": 160,
   "metadata": {},
   "outputs": [
    {
     "output_type": "execute_result",
     "data": {
      "text/plain": [
       "      PatientId  AppointmentID Gender          ScheduledDay  \\\n",
       "0  2.987250e+13        5642903      F  2016-04-29T18:38:08Z   \n",
       "1  5.589978e+14        5642503      M  2016-04-29T16:08:27Z   \n",
       "2  4.262962e+12        5642549      F  2016-04-29T16:19:04Z   \n",
       "3  8.679512e+11        5642828      F  2016-04-29T17:29:31Z   \n",
       "4  8.841186e+12        5642494      F  2016-04-29T16:07:23Z   \n",
       "\n",
       "         AppointmentDay  Age      Neighbourhood  Scholarship  Hipertension  \\\n",
       "0  2016-04-29T00:00:00Z   62    JARDIM DA PENHA            0             1   \n",
       "1  2016-04-29T00:00:00Z   56    JARDIM DA PENHA            0             0   \n",
       "2  2016-04-29T00:00:00Z   62      MATA DA PRAIA            0             0   \n",
       "3  2016-04-29T00:00:00Z    8  PONTAL DE CAMBURI            0             0   \n",
       "4  2016-04-29T00:00:00Z   56    JARDIM DA PENHA            0             1   \n",
       "\n",
       "   Diabetes Alcoholism  Handcap  SMS_received No-show  \n",
       "0         0       None        0             0      No  \n",
       "1         0       None        0             0      No  \n",
       "2         0       None        0             0      No  \n",
       "3         0       None        0             0      No  \n",
       "4         1       None        0             0      No  "
      ],
      "text/html": "<div>\n<style scoped>\n    .dataframe tbody tr th:only-of-type {\n        vertical-align: middle;\n    }\n\n    .dataframe tbody tr th {\n        vertical-align: top;\n    }\n\n    .dataframe thead th {\n        text-align: right;\n    }\n</style>\n<table border=\"1\" class=\"dataframe\">\n  <thead>\n    <tr style=\"text-align: right;\">\n      <th></th>\n      <th>PatientId</th>\n      <th>AppointmentID</th>\n      <th>Gender</th>\n      <th>ScheduledDay</th>\n      <th>AppointmentDay</th>\n      <th>Age</th>\n      <th>Neighbourhood</th>\n      <th>Scholarship</th>\n      <th>Hipertension</th>\n      <th>Diabetes</th>\n      <th>Alcoholism</th>\n      <th>Handcap</th>\n      <th>SMS_received</th>\n      <th>No-show</th>\n    </tr>\n  </thead>\n  <tbody>\n    <tr>\n      <th>0</th>\n      <td>2.987250e+13</td>\n      <td>5642903</td>\n      <td>F</td>\n      <td>2016-04-29T18:38:08Z</td>\n      <td>2016-04-29T00:00:00Z</td>\n      <td>62</td>\n      <td>JARDIM DA PENHA</td>\n      <td>0</td>\n      <td>1</td>\n      <td>0</td>\n      <td>None</td>\n      <td>0</td>\n      <td>0</td>\n      <td>No</td>\n    </tr>\n    <tr>\n      <th>1</th>\n      <td>5.589978e+14</td>\n      <td>5642503</td>\n      <td>M</td>\n      <td>2016-04-29T16:08:27Z</td>\n      <td>2016-04-29T00:00:00Z</td>\n      <td>56</td>\n      <td>JARDIM DA PENHA</td>\n      <td>0</td>\n      <td>0</td>\n      <td>0</td>\n      <td>None</td>\n      <td>0</td>\n      <td>0</td>\n      <td>No</td>\n    </tr>\n    <tr>\n      <th>2</th>\n      <td>4.262962e+12</td>\n      <td>5642549</td>\n      <td>F</td>\n      <td>2016-04-29T16:19:04Z</td>\n      <td>2016-04-29T00:00:00Z</td>\n      <td>62</td>\n      <td>MATA DA PRAIA</td>\n      <td>0</td>\n      <td>0</td>\n      <td>0</td>\n      <td>None</td>\n      <td>0</td>\n      <td>0</td>\n      <td>No</td>\n    </tr>\n    <tr>\n      <th>3</th>\n      <td>8.679512e+11</td>\n      <td>5642828</td>\n      <td>F</td>\n      <td>2016-04-29T17:29:31Z</td>\n      <td>2016-04-29T00:00:00Z</td>\n      <td>8</td>\n      <td>PONTAL DE CAMBURI</td>\n      <td>0</td>\n      <td>0</td>\n      <td>0</td>\n      <td>None</td>\n      <td>0</td>\n      <td>0</td>\n      <td>No</td>\n    </tr>\n    <tr>\n      <th>4</th>\n      <td>8.841186e+12</td>\n      <td>5642494</td>\n      <td>F</td>\n      <td>2016-04-29T16:07:23Z</td>\n      <td>2016-04-29T00:00:00Z</td>\n      <td>56</td>\n      <td>JARDIM DA PENHA</td>\n      <td>0</td>\n      <td>1</td>\n      <td>1</td>\n      <td>None</td>\n      <td>0</td>\n      <td>0</td>\n      <td>No</td>\n    </tr>\n  </tbody>\n</table>\n</div>"
     },
     "metadata": {},
     "execution_count": 160
    }
   ],
   "source": [
    "df.head()"
   ]
  },
  {
   "cell_type": "code",
   "execution_count": 161,
   "metadata": {},
   "outputs": [
    {
     "output_type": "stream",
     "name": "stdout",
     "text": [
      "<class 'pandas.core.frame.DataFrame'>\nInt64Index: 110527 entries, 0 to 110526\nData columns (total 14 columns):\n #   Column          Non-Null Count   Dtype  \n---  ------          --------------   -----  \n 0   PatientId       110527 non-null  float64\n 1   AppointmentID   110527 non-null  int64  \n 2   Gender          110182 non-null  object \n 3   ScheduledDay    110527 non-null  object \n 4   AppointmentDay  110527 non-null  object \n 5   Age             110527 non-null  int64  \n 6   Neighbourhood   110527 non-null  object \n 7   Scholarship     110527 non-null  int64  \n 8   Hipertension    110527 non-null  int64  \n 9   Diabetes        110527 non-null  int64  \n 10  Alcoholism      110527 non-null  object \n 11  Handcap         110527 non-null  int64  \n 12  SMS_received    110527 non-null  int64  \n 13  No-show         110527 non-null  object \ndtypes: float64(1), int64(7), object(6)\nmemory usage: 12.6+ MB\n"
     ]
    }
   ],
   "source": [
    "df.info()"
   ]
  },
  {
   "cell_type": "code",
   "execution_count": 162,
   "metadata": {},
   "outputs": [],
   "source": [
    "df.dropna(inplace=True)"
   ]
  },
  {
   "cell_type": "markdown",
   "metadata": {},
   "source": [
    "# ScheduledDay & AppointmentDay into datetime"
   ]
  },
  {
   "cell_type": "code",
   "execution_count": 163,
   "metadata": {},
   "outputs": [],
   "source": [
    "def to_datetime(ex):\n",
    "    return datetime.datetime(int(ex[0:4]), int(ex[5:7]), int(ex[8:10]), int(ex[11:13]), int(ex[14:16]), int(ex[17:19]))"
   ]
  },
  {
   "cell_type": "code",
   "execution_count": 164,
   "metadata": {},
   "outputs": [],
   "source": [
    "df['ScheduledDay_hours'] = df['ScheduledDay']"
   ]
  },
  {
   "cell_type": "code",
   "execution_count": 165,
   "metadata": {},
   "outputs": [],
   "source": [
    "df['ScheduledDay']=df['ScheduledDay'].apply(lambda ex: datetime.date(int(ex[0:4]), int(ex[5:7]), int(ex[8:10])))"
   ]
  },
  {
   "cell_type": "code",
   "execution_count": 166,
   "metadata": {},
   "outputs": [],
   "source": [
    "df['ScheduledDay_hours']=df['ScheduledDay_hours'].apply(lambda ex: int(ex[11:13]))"
   ]
  },
  {
   "cell_type": "code",
   "execution_count": 167,
   "metadata": {},
   "outputs": [],
   "source": [
    "df['AppointmentDay']=df['AppointmentDay'].apply(lambda ex: datetime.date(int(ex[0:4]), int(ex[5:7]), int(ex[8:10])))"
   ]
  },
  {
   "cell_type": "code",
   "execution_count": 168,
   "metadata": {},
   "outputs": [],
   "source": [
    "df['DaysDifference']= df['AppointmentDay']-df['ScheduledDay']"
   ]
  },
  {
   "cell_type": "code",
   "execution_count": 169,
   "metadata": {},
   "outputs": [],
   "source": [
    "df['DaysDifference_Num'] = df['DaysDifference'].dt.days.astype('int16')"
   ]
  },
  {
   "cell_type": "code",
   "execution_count": 170,
   "metadata": {},
   "outputs": [
    {
     "output_type": "stream",
     "name": "stdout",
     "text": [
      "<class 'pandas.core.frame.DataFrame'>\nInt64Index: 110182 entries, 0 to 110526\nData columns (total 17 columns):\n #   Column              Non-Null Count   Dtype          \n---  ------              --------------   -----          \n 0   PatientId           110182 non-null  float64        \n 1   AppointmentID       110182 non-null  int64          \n 2   Gender              110182 non-null  object         \n 3   ScheduledDay        110182 non-null  object         \n 4   AppointmentDay      110182 non-null  object         \n 5   Age                 110182 non-null  int64          \n 6   Neighbourhood       110182 non-null  object         \n 7   Scholarship         110182 non-null  int64          \n 8   Hipertension        110182 non-null  int64          \n 9   Diabetes            110182 non-null  int64          \n 10  Alcoholism          110182 non-null  object         \n 11  Handcap             110182 non-null  int64          \n 12  SMS_received        110182 non-null  int64          \n 13  No-show             110182 non-null  object         \n 14  ScheduledDay_hours  110182 non-null  int64          \n 15  DaysDifference      110182 non-null  timedelta64[ns]\n 16  DaysDifference_Num  110182 non-null  int16          \ndtypes: float64(1), int16(1), int64(8), object(6), timedelta64[ns](1)\nmemory usage: 14.5+ MB\n"
     ]
    }
   ],
   "source": [
    "df.info()"
   ]
  },
  {
   "cell_type": "code",
   "execution_count": 171,
   "metadata": {},
   "outputs": [
    {
     "output_type": "execute_result",
     "data": {
      "text/plain": [
       "           PatientId  AppointmentID Gender ScheduledDay AppointmentDay  Age  \\\n",
       "110522  2.572134e+12        5651768      F   2016-05-03     2016-06-07   56   \n",
       "110523  3.596266e+12        5650093      F   2016-05-03     2016-06-07   51   \n",
       "110524  1.557663e+13        5630692      F   2016-04-27     2016-06-07   21   \n",
       "110525  9.213493e+13        5630323      F   2016-04-27     2016-06-07   38   \n",
       "110526  3.775115e+14        5629448      F   2016-04-27     2016-06-07   54   \n",
       "\n",
       "       Neighbourhood  Scholarship  Hipertension  Diabetes Alcoholism  Handcap  \\\n",
       "110522   MARIA ORTIZ            0             0         0       None        0   \n",
       "110523   MARIA ORTIZ            0             0         0       None        0   \n",
       "110524   MARIA ORTIZ            0             0         0       None        0   \n",
       "110525   MARIA ORTIZ            0             0         0       None        0   \n",
       "110526   MARIA ORTIZ            0             0         0       None        0   \n",
       "\n",
       "        SMS_received No-show  ScheduledDay_hours DaysDifference  \\\n",
       "110522             1      No                   9        35 days   \n",
       "110523             1      No                   7        35 days   \n",
       "110524             1      No                  16        41 days   \n",
       "110525             1      No                  15        41 days   \n",
       "110526             1      No                  13        41 days   \n",
       "\n",
       "        DaysDifference_Num  \n",
       "110522                  35  \n",
       "110523                  35  \n",
       "110524                  41  \n",
       "110525                  41  \n",
       "110526                  41  "
      ],
      "text/html": "<div>\n<style scoped>\n    .dataframe tbody tr th:only-of-type {\n        vertical-align: middle;\n    }\n\n    .dataframe tbody tr th {\n        vertical-align: top;\n    }\n\n    .dataframe thead th {\n        text-align: right;\n    }\n</style>\n<table border=\"1\" class=\"dataframe\">\n  <thead>\n    <tr style=\"text-align: right;\">\n      <th></th>\n      <th>PatientId</th>\n      <th>AppointmentID</th>\n      <th>Gender</th>\n      <th>ScheduledDay</th>\n      <th>AppointmentDay</th>\n      <th>Age</th>\n      <th>Neighbourhood</th>\n      <th>Scholarship</th>\n      <th>Hipertension</th>\n      <th>Diabetes</th>\n      <th>Alcoholism</th>\n      <th>Handcap</th>\n      <th>SMS_received</th>\n      <th>No-show</th>\n      <th>ScheduledDay_hours</th>\n      <th>DaysDifference</th>\n      <th>DaysDifference_Num</th>\n    </tr>\n  </thead>\n  <tbody>\n    <tr>\n      <th>110522</th>\n      <td>2.572134e+12</td>\n      <td>5651768</td>\n      <td>F</td>\n      <td>2016-05-03</td>\n      <td>2016-06-07</td>\n      <td>56</td>\n      <td>MARIA ORTIZ</td>\n      <td>0</td>\n      <td>0</td>\n      <td>0</td>\n      <td>None</td>\n      <td>0</td>\n      <td>1</td>\n      <td>No</td>\n      <td>9</td>\n      <td>35 days</td>\n      <td>35</td>\n    </tr>\n    <tr>\n      <th>110523</th>\n      <td>3.596266e+12</td>\n      <td>5650093</td>\n      <td>F</td>\n      <td>2016-05-03</td>\n      <td>2016-06-07</td>\n      <td>51</td>\n      <td>MARIA ORTIZ</td>\n      <td>0</td>\n      <td>0</td>\n      <td>0</td>\n      <td>None</td>\n      <td>0</td>\n      <td>1</td>\n      <td>No</td>\n      <td>7</td>\n      <td>35 days</td>\n      <td>35</td>\n    </tr>\n    <tr>\n      <th>110524</th>\n      <td>1.557663e+13</td>\n      <td>5630692</td>\n      <td>F</td>\n      <td>2016-04-27</td>\n      <td>2016-06-07</td>\n      <td>21</td>\n      <td>MARIA ORTIZ</td>\n      <td>0</td>\n      <td>0</td>\n      <td>0</td>\n      <td>None</td>\n      <td>0</td>\n      <td>1</td>\n      <td>No</td>\n      <td>16</td>\n      <td>41 days</td>\n      <td>41</td>\n    </tr>\n    <tr>\n      <th>110525</th>\n      <td>9.213493e+13</td>\n      <td>5630323</td>\n      <td>F</td>\n      <td>2016-04-27</td>\n      <td>2016-06-07</td>\n      <td>38</td>\n      <td>MARIA ORTIZ</td>\n      <td>0</td>\n      <td>0</td>\n      <td>0</td>\n      <td>None</td>\n      <td>0</td>\n      <td>1</td>\n      <td>No</td>\n      <td>15</td>\n      <td>41 days</td>\n      <td>41</td>\n    </tr>\n    <tr>\n      <th>110526</th>\n      <td>3.775115e+14</td>\n      <td>5629448</td>\n      <td>F</td>\n      <td>2016-04-27</td>\n      <td>2016-06-07</td>\n      <td>54</td>\n      <td>MARIA ORTIZ</td>\n      <td>0</td>\n      <td>0</td>\n      <td>0</td>\n      <td>None</td>\n      <td>0</td>\n      <td>1</td>\n      <td>No</td>\n      <td>13</td>\n      <td>41 days</td>\n      <td>41</td>\n    </tr>\n  </tbody>\n</table>\n</div>"
     },
     "metadata": {},
     "execution_count": 171
    }
   ],
   "source": [
    "df.tail()"
   ]
  },
  {
   "cell_type": "markdown",
   "metadata": {},
   "source": [
    "# Gender into category"
   ]
  },
  {
   "cell_type": "code",
   "execution_count": 172,
   "metadata": {},
   "outputs": [],
   "source": [
    "df[\"Alcoholism_Num\"] = df[\"Alcoholism\"].replace(\"None\", 0).replace(\"Low\",1).replace(\"Moderate\", 2).replace(\"High\", 3)"
   ]
  },
  {
   "cell_type": "code",
   "execution_count": 173,
   "metadata": {},
   "outputs": [
    {
     "output_type": "execute_result",
     "data": {
      "text/plain": [
       "Index(['PatientId', 'AppointmentID', 'Gender', 'ScheduledDay',\n",
       "       'AppointmentDay', 'Age', 'Neighbourhood', 'Scholarship', 'Hipertension',\n",
       "       'Diabetes', 'Alcoholism', 'Handcap', 'SMS_received', 'No-show',\n",
       "       'ScheduledDay_hours', 'DaysDifference', 'DaysDifference_Num',\n",
       "       'Alcoholism_Num'],\n",
       "      dtype='object')"
      ]
     },
     "metadata": {},
     "execution_count": 173
    }
   ],
   "source": [
    "df.columns"
   ]
  },
  {
   "cell_type": "code",
   "execution_count": 174,
   "metadata": {},
   "outputs": [
    {
     "output_type": "execute_result",
     "data": {
      "text/plain": [
       "No     87951\n",
       "Yes    22231\n",
       "Name: No-show, dtype: int64"
      ]
     },
     "metadata": {},
     "execution_count": 174
    }
   ],
   "source": [
    "df[\"No-show\"].value_counts()"
   ]
  },
  {
   "cell_type": "code",
   "execution_count": 175,
   "metadata": {},
   "outputs": [],
   "source": [
    "df[\"Attendance\"] = df[\"No-show\"].replace(\"No\", 1).replace(\"Yes\", 0) "
   ]
  },
  {
   "cell_type": "code",
   "execution_count": 176,
   "metadata": {},
   "outputs": [],
   "source": [
    "df[\"No-show_Num\"] = df[\"No-show\"].replace(\"No\", 0).replace(\"Yes\", 1) "
   ]
  },
  {
   "cell_type": "code",
   "execution_count": 177,
   "metadata": {},
   "outputs": [],
   "source": [
    "df[\"Gender_Num\"] = df[\"Gender\"].replace(\"M\", 0).replace(\"F\", 1) "
   ]
  },
  {
   "cell_type": "code",
   "execution_count": 178,
   "metadata": {},
   "outputs": [
    {
     "output_type": "execute_result",
     "data": {
      "text/plain": [
       "JARDIM CAMBURI                 7698\n",
       "MARIA ORTIZ                    5795\n",
       "RESISTÊNCIA                    4411\n",
       "JARDIM DA PENHA                3865\n",
       "ITARARÉ                        3500\n",
       "                               ... \n",
       "ILHA DO BOI                      35\n",
       "ILHA DO FRADE                    10\n",
       "AEROPORTO                         8\n",
       "ILHAS OCEÂNICAS DE TRINDADE       2\n",
       "PARQUE INDUSTRIAL                 1\n",
       "Name: Neighbourhood, Length: 81, dtype: int64"
      ]
     },
     "metadata": {},
     "execution_count": 178
    }
   ],
   "source": [
    "df[\"Neighbourhood\"].value_counts()"
   ]
  },
  {
   "cell_type": "code",
   "execution_count": 189,
   "metadata": {},
   "outputs": [],
   "source": [
    "df_mean = df[[\"Neighbourhood\",\"No-show_Num\"]].groupby(\"Neighbourhood\").mean(\"No-show_Num\")"
   ]
  },
  {
   "cell_type": "code",
   "execution_count": 190,
   "metadata": {},
   "outputs": [],
   "source": [
    "df = df.join(df_mean, on = \"Neighbourhood\", rsuffix = \"_Neighbourhood\", how = \"left\")"
   ]
  },
  {
   "cell_type": "code",
   "execution_count": 191,
   "metadata": {},
   "outputs": [
    {
     "output_type": "execute_result",
     "data": {
      "text/plain": [
       "      PatientId  AppointmentID Gender ScheduledDay AppointmentDay  Age  \\\n",
       "0  2.987250e+13        5642903      F   2016-04-29     2016-04-29   62   \n",
       "1  5.589978e+14        5642503      M   2016-04-29     2016-04-29   56   \n",
       "2  4.262962e+12        5642549      F   2016-04-29     2016-04-29   62   \n",
       "3  8.679512e+11        5642828      F   2016-04-29     2016-04-29    8   \n",
       "4  8.841186e+12        5642494      F   2016-04-29     2016-04-29   56   \n",
       "\n",
       "       Neighbourhood  Scholarship  Hipertension  Diabetes  ... No-show  \\\n",
       "0    JARDIM DA PENHA            0             1         0  ...      No   \n",
       "1    JARDIM DA PENHA            0             0         0  ...      No   \n",
       "2      MATA DA PRAIA            0             0         0  ...      No   \n",
       "3  PONTAL DE CAMBURI            0             0         0  ...      No   \n",
       "4    JARDIM DA PENHA            0             1         1  ...      No   \n",
       "\n",
       "   ScheduledDay_hours  DaysDifference DaysDifference_Num  Alcoholism_Num  \\\n",
       "0                  18          0 days                  0               0   \n",
       "1                  16          0 days                  0               0   \n",
       "2                  16          0 days                  0               0   \n",
       "3                  17          0 days                  0               0   \n",
       "4                  16          0 days                  0               0   \n",
       "\n",
       "  Attendance  No-show_Num  Gender_Num  No-show_Num_Neighbourhood  \\\n",
       "0          1            0           1                   0.163001   \n",
       "1          1            0           0                   0.163001   \n",
       "2          1            0           1                   0.169782   \n",
       "3          1            0           1                   0.176471   \n",
       "4          1            0           1                   0.163001   \n",
       "\n",
       "   No-show_Num_Neighbourhood  \n",
       "0                   0.163001  \n",
       "1                   0.163001  \n",
       "2                   0.169782  \n",
       "3                   0.176471  \n",
       "4                   0.163001  \n",
       "\n",
       "[5 rows x 23 columns]"
      ],
      "text/html": "<div>\n<style scoped>\n    .dataframe tbody tr th:only-of-type {\n        vertical-align: middle;\n    }\n\n    .dataframe tbody tr th {\n        vertical-align: top;\n    }\n\n    .dataframe thead th {\n        text-align: right;\n    }\n</style>\n<table border=\"1\" class=\"dataframe\">\n  <thead>\n    <tr style=\"text-align: right;\">\n      <th></th>\n      <th>PatientId</th>\n      <th>AppointmentID</th>\n      <th>Gender</th>\n      <th>ScheduledDay</th>\n      <th>AppointmentDay</th>\n      <th>Age</th>\n      <th>Neighbourhood</th>\n      <th>Scholarship</th>\n      <th>Hipertension</th>\n      <th>Diabetes</th>\n      <th>...</th>\n      <th>No-show</th>\n      <th>ScheduledDay_hours</th>\n      <th>DaysDifference</th>\n      <th>DaysDifference_Num</th>\n      <th>Alcoholism_Num</th>\n      <th>Attendance</th>\n      <th>No-show_Num</th>\n      <th>Gender_Num</th>\n      <th>No-show_Num_Neighbourhood</th>\n      <th>No-show_Num_Neighbourhood</th>\n    </tr>\n  </thead>\n  <tbody>\n    <tr>\n      <th>0</th>\n      <td>2.987250e+13</td>\n      <td>5642903</td>\n      <td>F</td>\n      <td>2016-04-29</td>\n      <td>2016-04-29</td>\n      <td>62</td>\n      <td>JARDIM DA PENHA</td>\n      <td>0</td>\n      <td>1</td>\n      <td>0</td>\n      <td>...</td>\n      <td>No</td>\n      <td>18</td>\n      <td>0 days</td>\n      <td>0</td>\n      <td>0</td>\n      <td>1</td>\n      <td>0</td>\n      <td>1</td>\n      <td>0.163001</td>\n      <td>0.163001</td>\n    </tr>\n    <tr>\n      <th>1</th>\n      <td>5.589978e+14</td>\n      <td>5642503</td>\n      <td>M</td>\n      <td>2016-04-29</td>\n      <td>2016-04-29</td>\n      <td>56</td>\n      <td>JARDIM DA PENHA</td>\n      <td>0</td>\n      <td>0</td>\n      <td>0</td>\n      <td>...</td>\n      <td>No</td>\n      <td>16</td>\n      <td>0 days</td>\n      <td>0</td>\n      <td>0</td>\n      <td>1</td>\n      <td>0</td>\n      <td>0</td>\n      <td>0.163001</td>\n      <td>0.163001</td>\n    </tr>\n    <tr>\n      <th>2</th>\n      <td>4.262962e+12</td>\n      <td>5642549</td>\n      <td>F</td>\n      <td>2016-04-29</td>\n      <td>2016-04-29</td>\n      <td>62</td>\n      <td>MATA DA PRAIA</td>\n      <td>0</td>\n      <td>0</td>\n      <td>0</td>\n      <td>...</td>\n      <td>No</td>\n      <td>16</td>\n      <td>0 days</td>\n      <td>0</td>\n      <td>0</td>\n      <td>1</td>\n      <td>0</td>\n      <td>1</td>\n      <td>0.169782</td>\n      <td>0.169782</td>\n    </tr>\n    <tr>\n      <th>3</th>\n      <td>8.679512e+11</td>\n      <td>5642828</td>\n      <td>F</td>\n      <td>2016-04-29</td>\n      <td>2016-04-29</td>\n      <td>8</td>\n      <td>PONTAL DE CAMBURI</td>\n      <td>0</td>\n      <td>0</td>\n      <td>0</td>\n      <td>...</td>\n      <td>No</td>\n      <td>17</td>\n      <td>0 days</td>\n      <td>0</td>\n      <td>0</td>\n      <td>1</td>\n      <td>0</td>\n      <td>1</td>\n      <td>0.176471</td>\n      <td>0.176471</td>\n    </tr>\n    <tr>\n      <th>4</th>\n      <td>8.841186e+12</td>\n      <td>5642494</td>\n      <td>F</td>\n      <td>2016-04-29</td>\n      <td>2016-04-29</td>\n      <td>56</td>\n      <td>JARDIM DA PENHA</td>\n      <td>0</td>\n      <td>1</td>\n      <td>1</td>\n      <td>...</td>\n      <td>No</td>\n      <td>16</td>\n      <td>0 days</td>\n      <td>0</td>\n      <td>0</td>\n      <td>1</td>\n      <td>0</td>\n      <td>1</td>\n      <td>0.163001</td>\n      <td>0.163001</td>\n    </tr>\n  </tbody>\n</table>\n<p>5 rows × 23 columns</p>\n</div>"
     },
     "metadata": {},
     "execution_count": 191
    }
   ],
   "source": [
    "df.head()"
   ]
  },
  {
   "cell_type": "code",
   "execution_count": 192,
   "metadata": {},
   "outputs": [
    {
     "output_type": "execute_result",
     "data": {
      "text/plain": [
       "Index(['PatientId', 'AppointmentID', 'Gender', 'ScheduledDay',\n",
       "       'AppointmentDay', 'Age', 'Neighbourhood', 'Scholarship', 'Hipertension',\n",
       "       'Diabetes', 'Alcoholism', 'Handcap', 'SMS_received', 'No-show',\n",
       "       'ScheduledDay_hours', 'DaysDifference', 'DaysDifference_Num',\n",
       "       'Alcoholism_Num', 'Attendance', 'No-show_Num', 'Gender_Num',\n",
       "       'No-show_Num_Neighbourhood', 'No-show_Num_Neighbourhood'],\n",
       "      dtype='object')"
      ]
     },
     "metadata": {},
     "execution_count": 192
    }
   ],
   "source": [
    "df.columns"
   ]
  },
  {
   "cell_type": "code",
   "execution_count": 193,
   "metadata": {},
   "outputs": [],
   "source": [
    "X = df[['Gender_Num', 'Age', 'Scholarship', 'Hipertension','Diabetes', 'Handcap', 'SMS_received', 'ScheduledDay_hours', 'DaysDifference_Num', 'Alcoholism_Num', 'No-show_Num_Neighbourhood']]"
   ]
  },
  {
   "cell_type": "code",
   "execution_count": 194,
   "metadata": {},
   "outputs": [
    {
     "output_type": "stream",
     "name": "stdout",
     "text": [
      "<class 'pandas.core.frame.DataFrame'>\nInt64Index: 110182 entries, 0 to 110526\nData columns (total 12 columns):\n #   Column                     Non-Null Count   Dtype  \n---  ------                     --------------   -----  \n 0   Gender_Num                 110182 non-null  int64  \n 1   Age                        110182 non-null  int64  \n 2   Scholarship                110182 non-null  int64  \n 3   Hipertension               110182 non-null  int64  \n 4   Diabetes                   110182 non-null  int64  \n 5   Handcap                    110182 non-null  int64  \n 6   SMS_received               110182 non-null  int64  \n 7   ScheduledDay_hours         110182 non-null  int64  \n 8   DaysDifference_Num         110182 non-null  int16  \n 9   Alcoholism_Num             110182 non-null  int64  \n 10  No-show_Num_Neighbourhood  110182 non-null  float64\n 11  No-show_Num_Neighbourhood  110182 non-null  float64\ndtypes: float64(2), int16(1), int64(9)\nmemory usage: 10.3 MB\n"
     ]
    }
   ],
   "source": [
    "X.info()"
   ]
  },
  {
   "cell_type": "code",
   "execution_count": 195,
   "metadata": {},
   "outputs": [
    {
     "output_type": "error",
     "ename": "TypeError",
     "evalue": "'(slice(None, None, None), 0)' is an invalid key",
     "traceback": [
      "\u001b[0;31m---------------------------------------------------------------------------\u001b[0m",
      "\u001b[0;31mTypeError\u001b[0m                                 Traceback (most recent call last)",
      "\u001b[0;32m<ipython-input-195-12292974642d>\u001b[0m in \u001b[0;36m<module>\u001b[0;34m\u001b[0m\n\u001b[0;32m----> 1\u001b[0;31m \u001b[0mVIF\u001b[0m \u001b[0;34m=\u001b[0m \u001b[0;34m[\u001b[0m\u001b[0mvariance_inflation_factor\u001b[0m\u001b[0;34m(\u001b[0m\u001b[0mX\u001b[0m\u001b[0;34m,\u001b[0m \u001b[0midx\u001b[0m\u001b[0;34m)\u001b[0m \u001b[0;32mfor\u001b[0m \u001b[0midx\u001b[0m \u001b[0;32min\u001b[0m \u001b[0mrange\u001b[0m\u001b[0;34m(\u001b[0m\u001b[0;36m10\u001b[0m\u001b[0;34m)\u001b[0m\u001b[0;34m]\u001b[0m\u001b[0;34m\u001b[0m\u001b[0;34m\u001b[0m\u001b[0m\n\u001b[0m",
      "\u001b[0;32m<ipython-input-195-12292974642d>\u001b[0m in \u001b[0;36m<listcomp>\u001b[0;34m(.0)\u001b[0m\n\u001b[0;32m----> 1\u001b[0;31m \u001b[0mVIF\u001b[0m \u001b[0;34m=\u001b[0m \u001b[0;34m[\u001b[0m\u001b[0mvariance_inflation_factor\u001b[0m\u001b[0;34m(\u001b[0m\u001b[0mX\u001b[0m\u001b[0;34m,\u001b[0m \u001b[0midx\u001b[0m\u001b[0;34m)\u001b[0m \u001b[0;32mfor\u001b[0m \u001b[0midx\u001b[0m \u001b[0;32min\u001b[0m \u001b[0mrange\u001b[0m\u001b[0;34m(\u001b[0m\u001b[0;36m10\u001b[0m\u001b[0;34m)\u001b[0m\u001b[0;34m]\u001b[0m\u001b[0;34m\u001b[0m\u001b[0;34m\u001b[0m\u001b[0m\n\u001b[0m",
      "\u001b[0;32m~/opt/anaconda3/lib/python3.8/site-packages/statsmodels/stats/outliers_influence.py\u001b[0m in \u001b[0;36mvariance_inflation_factor\u001b[0;34m(exog, exog_idx)\u001b[0m\n\u001b[1;32m    187\u001b[0m     \"\"\"\n\u001b[1;32m    188\u001b[0m     \u001b[0mk_vars\u001b[0m \u001b[0;34m=\u001b[0m \u001b[0mexog\u001b[0m\u001b[0;34m.\u001b[0m\u001b[0mshape\u001b[0m\u001b[0;34m[\u001b[0m\u001b[0;36m1\u001b[0m\u001b[0;34m]\u001b[0m\u001b[0;34m\u001b[0m\u001b[0;34m\u001b[0m\u001b[0m\n\u001b[0;32m--> 189\u001b[0;31m     \u001b[0mx_i\u001b[0m \u001b[0;34m=\u001b[0m \u001b[0mexog\u001b[0m\u001b[0;34m[\u001b[0m\u001b[0;34m:\u001b[0m\u001b[0;34m,\u001b[0m \u001b[0mexog_idx\u001b[0m\u001b[0;34m]\u001b[0m\u001b[0;34m\u001b[0m\u001b[0;34m\u001b[0m\u001b[0m\n\u001b[0m\u001b[1;32m    190\u001b[0m     \u001b[0mmask\u001b[0m \u001b[0;34m=\u001b[0m \u001b[0mnp\u001b[0m\u001b[0;34m.\u001b[0m\u001b[0marange\u001b[0m\u001b[0;34m(\u001b[0m\u001b[0mk_vars\u001b[0m\u001b[0;34m)\u001b[0m \u001b[0;34m!=\u001b[0m \u001b[0mexog_idx\u001b[0m\u001b[0;34m\u001b[0m\u001b[0;34m\u001b[0m\u001b[0m\n\u001b[1;32m    191\u001b[0m     \u001b[0mx_noti\u001b[0m \u001b[0;34m=\u001b[0m \u001b[0mexog\u001b[0m\u001b[0;34m[\u001b[0m\u001b[0;34m:\u001b[0m\u001b[0;34m,\u001b[0m \u001b[0mmask\u001b[0m\u001b[0;34m]\u001b[0m\u001b[0;34m\u001b[0m\u001b[0;34m\u001b[0m\u001b[0m\n",
      "\u001b[0;32m~/opt/anaconda3/lib/python3.8/site-packages/pandas/core/frame.py\u001b[0m in \u001b[0;36m__getitem__\u001b[0;34m(self, key)\u001b[0m\n\u001b[1;32m   2900\u001b[0m             \u001b[0;32mif\u001b[0m \u001b[0mself\u001b[0m\u001b[0;34m.\u001b[0m\u001b[0mcolumns\u001b[0m\u001b[0;34m.\u001b[0m\u001b[0mnlevels\u001b[0m \u001b[0;34m>\u001b[0m \u001b[0;36m1\u001b[0m\u001b[0;34m:\u001b[0m\u001b[0;34m\u001b[0m\u001b[0;34m\u001b[0m\u001b[0m\n\u001b[1;32m   2901\u001b[0m                 \u001b[0;32mreturn\u001b[0m \u001b[0mself\u001b[0m\u001b[0;34m.\u001b[0m\u001b[0m_getitem_multilevel\u001b[0m\u001b[0;34m(\u001b[0m\u001b[0mkey\u001b[0m\u001b[0;34m)\u001b[0m\u001b[0;34m\u001b[0m\u001b[0;34m\u001b[0m\u001b[0m\n\u001b[0;32m-> 2902\u001b[0;31m             \u001b[0mindexer\u001b[0m \u001b[0;34m=\u001b[0m \u001b[0mself\u001b[0m\u001b[0;34m.\u001b[0m\u001b[0mcolumns\u001b[0m\u001b[0;34m.\u001b[0m\u001b[0mget_loc\u001b[0m\u001b[0;34m(\u001b[0m\u001b[0mkey\u001b[0m\u001b[0;34m)\u001b[0m\u001b[0;34m\u001b[0m\u001b[0;34m\u001b[0m\u001b[0m\n\u001b[0m\u001b[1;32m   2903\u001b[0m             \u001b[0;32mif\u001b[0m \u001b[0mis_integer\u001b[0m\u001b[0;34m(\u001b[0m\u001b[0mindexer\u001b[0m\u001b[0;34m)\u001b[0m\u001b[0;34m:\u001b[0m\u001b[0;34m\u001b[0m\u001b[0;34m\u001b[0m\u001b[0m\n\u001b[1;32m   2904\u001b[0m                 \u001b[0mindexer\u001b[0m \u001b[0;34m=\u001b[0m \u001b[0;34m[\u001b[0m\u001b[0mindexer\u001b[0m\u001b[0;34m]\u001b[0m\u001b[0;34m\u001b[0m\u001b[0;34m\u001b[0m\u001b[0m\n",
      "\u001b[0;32m~/opt/anaconda3/lib/python3.8/site-packages/pandas/core/indexes/base.py\u001b[0m in \u001b[0;36mget_loc\u001b[0;34m(self, key, method, tolerance)\u001b[0m\n\u001b[1;32m   2893\u001b[0m             \u001b[0mcasted_key\u001b[0m \u001b[0;34m=\u001b[0m \u001b[0mself\u001b[0m\u001b[0;34m.\u001b[0m\u001b[0m_maybe_cast_indexer\u001b[0m\u001b[0;34m(\u001b[0m\u001b[0mkey\u001b[0m\u001b[0;34m)\u001b[0m\u001b[0;34m\u001b[0m\u001b[0;34m\u001b[0m\u001b[0m\n\u001b[1;32m   2894\u001b[0m             \u001b[0;32mtry\u001b[0m\u001b[0;34m:\u001b[0m\u001b[0;34m\u001b[0m\u001b[0;34m\u001b[0m\u001b[0m\n\u001b[0;32m-> 2895\u001b[0;31m                 \u001b[0;32mreturn\u001b[0m \u001b[0mself\u001b[0m\u001b[0;34m.\u001b[0m\u001b[0m_engine\u001b[0m\u001b[0;34m.\u001b[0m\u001b[0mget_loc\u001b[0m\u001b[0;34m(\u001b[0m\u001b[0mcasted_key\u001b[0m\u001b[0;34m)\u001b[0m\u001b[0;34m\u001b[0m\u001b[0;34m\u001b[0m\u001b[0m\n\u001b[0m\u001b[1;32m   2896\u001b[0m             \u001b[0;32mexcept\u001b[0m \u001b[0mKeyError\u001b[0m \u001b[0;32mas\u001b[0m \u001b[0merr\u001b[0m\u001b[0;34m:\u001b[0m\u001b[0;34m\u001b[0m\u001b[0;34m\u001b[0m\u001b[0m\n\u001b[1;32m   2897\u001b[0m                 \u001b[0;32mraise\u001b[0m \u001b[0mKeyError\u001b[0m\u001b[0;34m(\u001b[0m\u001b[0mkey\u001b[0m\u001b[0;34m)\u001b[0m \u001b[0;32mfrom\u001b[0m \u001b[0merr\u001b[0m\u001b[0;34m\u001b[0m\u001b[0;34m\u001b[0m\u001b[0m\n",
      "\u001b[0;32mpandas/_libs/index.pyx\u001b[0m in \u001b[0;36mpandas._libs.index.IndexEngine.get_loc\u001b[0;34m()\u001b[0m\n",
      "\u001b[0;32mpandas/_libs/index.pyx\u001b[0m in \u001b[0;36mpandas._libs.index.IndexEngine.get_loc\u001b[0;34m()\u001b[0m\n",
      "\u001b[0;31mTypeError\u001b[0m: '(slice(None, None, None), 0)' is an invalid key"
     ]
    }
   ],
   "source": [
    "VIF = [variance_inflation_factor(X, idx) for idx in range(10)]"
   ]
  },
  {
   "cell_type": "code",
   "execution_count": 117,
   "metadata": {},
   "outputs": [
    {
     "output_type": "stream",
     "name": "stdout",
     "text": [
      "Help on function variance_inflation_factor in module statsmodels.stats.outliers_influence:\n\nvariance_inflation_factor(exog, exog_idx)\n    variance inflation factor, VIF, for one exogenous variable\n    \n    The variance inflation factor is a measure for the increase of the\n    variance of the parameter estimates if an additional variable, given by\n    exog_idx is added to the linear regression. It is a measure for\n    multicollinearity of the design matrix, exog.\n    \n    One recommendation is that if VIF is greater than 5, then the explanatory\n    variable given by exog_idx is highly collinear with the other explanatory\n    variables, and the parameter estimates will have large standard errors\n    because of this.\n    \n    Parameters\n    ----------\n    exog : ndarray\n        design matrix with all explanatory variables, as for example used in\n        regression\n    exog_idx : int\n        index of the exogenous variable in the columns of exog\n    \n    Returns\n    -------\n    vif : float\n        variance inflation factor\n    \n    Notes\n    -----\n    This function does not save the auxiliary regression.\n    \n    See Also\n    --------\n    xxx : class for regression diagnostics  TODO: does not exist yet\n    \n    References\n    ----------\n    https://en.wikipedia.org/wiki/Variance_inflation_factor\n\n"
     ]
    }
   ],
   "source": [
    "help(variance_inflation_factor)"
   ]
  },
  {
   "cell_type": "code",
   "execution_count": null,
   "metadata": {},
   "outputs": [],
   "source": []
  }
 ],
 "metadata": {
  "kernelspec": {
   "name": "python385jvsc74a57bd059eaf4d6d74e1d9eec5b10c94472bd4b4513ca1fc34db018fc328b2040b24e92",
   "display_name": "Python 3.8.5 64-bit ('base': conda)"
  },
  "language_info": {
   "codemirror_mode": {
    "name": "ipython",
    "version": 3
   },
   "file_extension": ".py",
   "mimetype": "text/x-python",
   "name": "python",
   "nbconvert_exporter": "python",
   "pygments_lexer": "ipython3",
   "version": "3.8.5"
  },
  "toc": {
   "base_numbering": 1,
   "nav_menu": {},
   "number_sections": true,
   "sideBar": true,
   "skip_h1_title": false,
   "title_cell": "Table of Contents",
   "title_sidebar": "Contents",
   "toc_cell": false,
   "toc_position": {},
   "toc_section_display": true,
   "toc_window_display": false
  },
  "varInspector": {
   "cols": {
    "lenName": 16,
    "lenType": 16,
    "lenVar": 40
   },
   "kernels_config": {
    "python": {
     "delete_cmd_postfix": "",
     "delete_cmd_prefix": "del ",
     "library": "var_list.py",
     "varRefreshCmd": "print(var_dic_list())"
    },
    "r": {
     "delete_cmd_postfix": ") ",
     "delete_cmd_prefix": "rm(",
     "library": "var_list.r",
     "varRefreshCmd": "cat(var_dic_list()) "
    }
   },
   "types_to_exclude": [
    "module",
    "function",
    "builtin_function_or_method",
    "instance",
    "_Feature"
   ],
   "window_display": false
  },
  "metadata": {
   "interpreter": {
    "hash": "59eaf4d6d74e1d9eec5b10c94472bd4b4513ca1fc34db018fc328b2040b24e92"
   }
  }
 },
 "nbformat": 4,
 "nbformat_minor": 4
}